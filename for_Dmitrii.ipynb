{
 "cells": [
  {
   "cell_type": "code",
   "execution_count": 1,
   "metadata": {},
   "outputs": [],
   "source": [
    "%load_ext autoreload\n",
    "%autoreload 2"
   ]
  },
  {
   "cell_type": "code",
   "execution_count": 2,
   "metadata": {},
   "outputs": [
    {
     "name": "stderr",
     "output_type": "stream",
     "text": [
      "/home/xomaiya/.conda/envs/ml/lib/python3.7/site-packages/tqdm/autonotebook.py:17: TqdmExperimentalWarning: Using `tqdm.autonotebook.tqdm` in notebook mode. Use `tqdm.tqdm` instead to force console mode (e.g. in jupyter console)\n",
      "  \" (e.g. in jupyter console)\", TqdmExperimentalWarning)\n"
     ]
    }
   ],
   "source": [
    "import numpy as np\n",
    "import matplotlib.pyplot as plt\n",
    "from ridgeRegression import *\n",
    "from diffevol import *\n",
    "import openbabel as ob\n",
    "from moleculToVector import *\n",
    "from thetas import *"
   ]
  },
  {
   "cell_type": "code",
   "execution_count": 3,
   "metadata": {},
   "outputs": [
    {
     "data": {
      "application/vnd.jupyter.widget-view+json": {
       "model_id": "c5588c9474e540daa3d3d69ecf71c2e4",
       "version_major": 2,
       "version_minor": 0
      },
      "text/plain": [
       "HBox(children=(IntProgress(value=1, bar_style='info', max=1), HTML(value='')))"
      ]
     },
     "metadata": {},
     "output_type": "display_data"
    },
    {
     "data": {
      "application/vnd.jupyter.widget-view+json": {
       "model_id": "b07b1c2d7fdf4efaac04a78af31b01ad",
       "version_major": 2,
       "version_minor": 0
      },
      "text/plain": [
       "HBox(children=(IntProgress(value=0, max=28414), HTML(value='')))"
      ]
     },
     "metadata": {},
     "output_type": "display_data"
    },
    {
     "name": "stdout",
     "output_type": "stream",
     "text": [
      "\n"
     ]
    }
   ],
   "source": [
    "structs = read_dataset('test-Olesya/11_cis-pos-1.xyz')\n",
    "struct_description, amber_coeffs = get_struct_description(path='test-Olesya/Initial_parameters_with_numbers_and_dihedrals_only.txt')\n",
    "dataset = get_dataset(structs, struct_description)\n",
    "y = np.array([struct.energy for struct in structs])"
   ]
  },
  {
   "cell_type": "code",
   "execution_count": 4,
   "metadata": {},
   "outputs": [],
   "source": [
    "linear_coeffs = amber_coeffs.bonds_linear_coeffs + amber_coeffs.angles_linear_coeffs + amber_coeffs.torsions_linear_coeffs +  amber_coeffs.epsilons + amber_coeffs.qq_coeffs\n",
    "thetas = amber_coeffs.bonds_zero_values + amber_coeffs.angles_zero_values + amber_coeffs.torsions_zero_phase + amber_coeffs.rmins + amber_coeffs.qs"
   ]
  },
  {
   "cell_type": "code",
   "execution_count": 5,
   "metadata": {},
   "outputs": [],
   "source": [
    "H, stdH = constrH(dataset, struct_description, thetas)\n",
    "y_est = H.dot(linear_coeffs)"
   ]
  },
  {
   "cell_type": "markdown",
   "metadata": {},
   "source": [
    "# Энергия первой структуры по частям"
   ]
  },
  {
   "cell_type": "code",
   "execution_count": 6,
   "metadata": {},
   "outputs": [
    {
     "name": "stdout",
     "output_type": "stream",
     "text": [
      " bonds: 9.495553729354238,\n",
      "angles: 20.1946032241865,\n",
      "torsions: 10.581166347610619,\n",
      " vdv: -0.8802329336959719,\n",
      " col: -174.40178443909087\n"
     ]
    }
   ],
   "source": [
    "kb = len(amber_coeffs.bonds_linear_coeffs) # длина вектора линейного коэффициента bonds\n",
    "ka = len(amber_coeffs.angles_linear_coeffs) # длина вектора линейного коэффициента angles\n",
    "kt = len(amber_coeffs.torsions_linear_coeffs) # линейный коэффициент torsions\n",
    "kvdw = len(amber_coeffs.epsilons) # линейный коэффициент перед вдв\n",
    "kq = len(amber_coeffs.qq_coeffs) # линейный коэффициент перед зарядами\n",
    "\n",
    "yest1 = H[:, :kb].dot(amber_coeffs.bonds_linear_coeffs)\n",
    "yest2 = H[:, kb:ka+kb].dot(amber_coeffs.angles_linear_coeffs)\n",
    "yest3 = H[:, kb+ka:kb+ka+kt].dot(amber_coeffs.torsions_linear_coeffs)\n",
    "yest4 = H[:, kb+ka+kt:kb+ka+kt+kvdw].dot(amber_coeffs.epsilons)\n",
    "yest5 = H[:, kb+ka+kt+kq:kb+ka+kt+kvdw+kq].dot(amber_coeffs.qq_coeffs)\n",
    "\n",
    "print(f' bonds: {yest1[0]},\\nangles: {yest2[0]},\\ntorsions: {yest3[0]},\\n vdv: {yest4[0]},\\n col: {yest5[0]}')"
   ]
  },
  {
   "cell_type": "markdown",
   "metadata": {},
   "source": [
    "# Вся энергия для первой структуры"
   ]
  },
  {
   "cell_type": "code",
   "execution_count": 7,
   "metadata": {},
   "outputs": [
    {
     "data": {
      "text/plain": [
       "-135.01069407163556"
      ]
     },
     "execution_count": 7,
     "metadata": {},
     "output_type": "execute_result"
    }
   ],
   "source": [
    "y_est[0]"
   ]
  },
  {
   "cell_type": "code",
   "execution_count": 8,
   "metadata": {},
   "outputs": [
    {
     "data": {
      "text/plain": [
       "array([ 3.39674425e+00, -2.91777118e+00, -9.22829515e+00, -2.84933032e+00,\n",
       "       -9.16384575e+00,  3.37519428e+00, -9.09937435e+00,  3.43567422e+00,\n",
       "       -2.87484975e+00, -2.41088246e+00,  3.89871356e+00, -8.59901498e+00,\n",
       "        3.63904828e+00, -8.90091971e+00, -2.54908425e+00, -8.75008456e+00,\n",
       "       -2.44048854e+00,  3.91134692e+00,  3.18778655e+00, -3.17241595e+00,\n",
       "        9.34313124e+00, -2.92715092e+00, -9.28735341e+00,  3.22819378e+00,\n",
       "       -9.32310104e+00,  3.16626047e+00, -3.16775634e+00, -1.63804860e+00,\n",
       "        4.76724859e+00, -5.77869137e+00,  6.26605813e-01,  2.54981208e+00,\n",
       "       -3.61126673e+00, -2.97637196e+00,  3.25933581e+00, -9.27126928e+00,\n",
       "        3.16232464e+00,  9.39803241e+00, -3.13257267e+00, -9.30914349e+00,\n",
       "       -3.07343572e+00,  3.24552320e+00, -4.20159453e+00,  2.08753911e+00,\n",
       "       -1.35195197e-02,  6.27561413e+00,  4.17621044e+00, -2.10103191e+00,\n",
       "        4.35581848e+00, -1.91911346e+00,  1.45753758e-01, -6.12917818e+00,\n",
       "       -4.06603575e+00,  2.22540831e+00, -4.10693315e-03,  6.27286183e+00,\n",
       "        6.28210172e+00, -7.30551111e-03, -1.54119702e-02,  6.27667531e+00,\n",
       "        6.26457941e+00, -9.70930756e-03, -4.17387439e+00, -2.80859830e-03,\n",
       "        4.16811411e+00,  2.11527210e+00, -6.28003810e+00, -2.10911540e+00,\n",
       "        5.27216754e-03,  6.27967401e+00,  6.28058277e+00, -1.13913856e-02,\n",
       "       -4.37422695e-02,  6.22855427e+00,  6.24728485e+00, -4.67946087e-02,\n",
       "        4.03683584e+00, -2.29284256e+00, -8.77239621e+00, -2.34619384e+00,\n",
       "       -8.67587224e+00,  3.69413811e+00, -8.45553397e+00,  4.06435163e+00,\n",
       "       -2.41520202e+00,  5.05802465e+00, -1.07631743e+00, -1.34797941e+00,\n",
       "        5.08405452e+00, -1.13815113e-01,  6.13129310e+00, -6.26397526e+00,\n",
       "       -1.88670458e-02, -8.91478441e-02,  6.04243950e+00,  6.27631663e+00,\n",
       "       -1.58472025e-01, -1.29211018e-02,  6.26469863e+00,  6.19022738e+00,\n",
       "       -9.85288828e-02, -1.85335803e-02,  6.27048572e+00,  6.23544235e+00,\n",
       "       -4.19143468e-02, -4.47789080e-02,  6.20680826e+00,  6.26852127e+00,\n",
       "       -4.62675594e-02, -9.03637849e-02,  6.22371636e+00,  6.20369405e+00,\n",
       "       -4.86018062e-02,  2.08994241e+00, -6.26903824e+00, -2.04027423e+00,\n",
       "       -4.19918267e+00,  8.21268298e-03,  4.23697670e+00, -3.69005003e+00,\n",
       "        2.62719020e+00,  5.74834319e-01, -5.67430145e+00,  4.92288426e+00,\n",
       "       -1.32625151e+00,  3.50768046e+00, -7.37723996e-01, -4.96946344e+00,\n",
       "       -2.81055693e+00,  5.51041462e+00,  1.27867517e+00])"
      ]
     },
     "execution_count": 8,
     "metadata": {},
     "output_type": "execute_result"
    }
   ],
   "source": [
    "dataset.bonds_matrix[0]\n",
    "dataset.angles_matrix[0]\n",
    "dataset.torsions_matrix[0]"
   ]
  },
  {
   "cell_type": "code",
   "execution_count": 9,
   "metadata": {},
   "outputs": [
    {
     "ename": "MemoryError",
     "evalue": "Unable to allocate array with shape (171, 28414, 3164) and data type float64",
     "output_type": "error",
     "traceback": [
      "\u001b[0;31m---------------------------------------------------------------------------\u001b[0m",
      "\u001b[0;31mMemoryError\u001b[0m                               Traceback (most recent call last)",
      "\u001b[0;32m<ipython-input-9-ae3c06768a34>\u001b[0m in \u001b[0;36m<module>\u001b[0;34m\u001b[0m\n\u001b[0;32m----> 1\u001b[0;31m \u001b[0mHH\u001b[0m \u001b[0;34m=\u001b[0m \u001b[0mconstrHH\u001b[0m\u001b[0;34m(\u001b[0m\u001b[0mdataset\u001b[0m\u001b[0;34m,\u001b[0m \u001b[0mstruct_description\u001b[0m\u001b[0;34m,\u001b[0m \u001b[0mthetas\u001b[0m\u001b[0;34m)\u001b[0m\u001b[0;34m\u001b[0m\u001b[0;34m\u001b[0m\u001b[0m\n\u001b[0m",
      "\u001b[0;32m~/LRR-DE/ridgeRegression.py\u001b[0m in \u001b[0;36mconstrHH\u001b[0;34m(dataset, struct_descr, thetas)\u001b[0m\n\u001b[1;32m    110\u001b[0m         \u001b[0mqq\u001b[0m\u001b[0;34m[\u001b[0m\u001b[0mi\u001b[0m\u001b[0;34m]\u001b[0m \u001b[0;34m=\u001b[0m \u001b[0mq\u001b[0m\u001b[0;34m[\u001b[0m\u001b[0mpair\u001b[0m\u001b[0;34m[\u001b[0m\u001b[0;36m0\u001b[0m\u001b[0;34m]\u001b[0m \u001b[0;34m-\u001b[0m \u001b[0;36m1\u001b[0m\u001b[0;34m]\u001b[0m \u001b[0;34m*\u001b[0m \u001b[0mq\u001b[0m\u001b[0;34m[\u001b[0m\u001b[0mpair\u001b[0m\u001b[0;34m[\u001b[0m\u001b[0;36m1\u001b[0m\u001b[0;34m]\u001b[0m \u001b[0;34m-\u001b[0m \u001b[0;36m1\u001b[0m\u001b[0;34m]\u001b[0m\u001b[0;34m\u001b[0m\u001b[0;34m\u001b[0m\u001b[0m\n\u001b[1;32m    111\u001b[0m \u001b[0;34m\u001b[0m\u001b[0m\n\u001b[0;32m--> 112\u001b[0;31m     \u001b[0mHH\u001b[0m \u001b[0;34m=\u001b[0m \u001b[0mnp\u001b[0m\u001b[0;34m.\u001b[0m\u001b[0mzeros\u001b[0m\u001b[0;34m(\u001b[0m\u001b[0;34m(\u001b[0m\u001b[0;36m3\u001b[0m \u001b[0;34m*\u001b[0m \u001b[0mlen\u001b[0m\u001b[0;34m(\u001b[0m\u001b[0matoms\u001b[0m\u001b[0;34m)\u001b[0m\u001b[0;34m,\u001b[0m \u001b[0mm\u001b[0m\u001b[0;34m,\u001b[0m \u001b[0mn\u001b[0m\u001b[0;34m)\u001b[0m\u001b[0;34m)\u001b[0m\u001b[0;34m\u001b[0m\u001b[0;34m\u001b[0m\u001b[0m\n\u001b[0m\u001b[1;32m    113\u001b[0m \u001b[0;34m\u001b[0m\u001b[0m\n\u001b[1;32m    114\u001b[0m     \u001b[0;32mfor\u001b[0m \u001b[0mj\u001b[0m \u001b[0;32min\u001b[0m \u001b[0mrange\u001b[0m\u001b[0;34m(\u001b[0m\u001b[0mb\u001b[0m\u001b[0;34m)\u001b[0m\u001b[0;34m:\u001b[0m\u001b[0;34m\u001b[0m\u001b[0;34m\u001b[0m\u001b[0m\n",
      "\u001b[0;31mMemoryError\u001b[0m: Unable to allocate array with shape (171, 28414, 3164) and data type float64"
     ]
    }
   ],
   "source": [
    "HH = constrHH(dataset, struct_description, thetas)"
   ]
  }
 ],
 "metadata": {
  "kernelspec": {
   "display_name": "Python 3",
   "language": "python",
   "name": "python3"
  },
  "language_info": {
   "codemirror_mode": {
    "name": "ipython",
    "version": 3
   },
   "file_extension": ".py",
   "mimetype": "text/x-python",
   "name": "python",
   "nbconvert_exporter": "python",
   "pygments_lexer": "ipython3",
   "version": "3.7.4"
  }
 },
 "nbformat": 4,
 "nbformat_minor": 2
}

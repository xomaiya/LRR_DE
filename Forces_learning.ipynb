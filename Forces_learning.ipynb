{
 "cells": [
  {
   "cell_type": "code",
   "execution_count": 1,
   "metadata": {},
   "outputs": [],
   "source": [
    "%load_ext autoreload\n",
    "%autoreload 2"
   ]
  },
  {
   "cell_type": "code",
   "execution_count": 2,
   "metadata": {
    "scrolled": false
   },
   "outputs": [
    {
     "name": "stderr",
     "output_type": "stream",
     "text": [
      "/Molly/dogonasheva_o/LRR-DE/moleculToVector.py:3: TqdmExperimentalWarning: Using `tqdm.autonotebook.tqdm` in notebook mode. Use `tqdm.tqdm` instead to force console mode (e.g. in jupyter console)\n",
      "  from tqdm.autonotebook import tqdm\n"
     ]
    }
   ],
   "source": [
    "import numpy as onp\n",
    "import matplotlib.pyplot as plt\n",
    "from ridgeRegression import *\n",
    "from diffevol import *\n",
    "from moleculToVector import *\n",
    "from thetas import *\n",
    "from xyz2bat import *\n",
    "from jax import jacfwd\n",
    "from jax import vmap"
   ]
  },
  {
   "cell_type": "code",
   "execution_count": 3,
   "metadata": {},
   "outputs": [
    {
     "data": {
      "application/vnd.jupyter.widget-view+json": {
       "model_id": "6077fedb19de41f7b4bc8040c855cee4",
       "version_major": 2,
       "version_minor": 0
      },
      "text/plain": [
       "HBox(children=(FloatProgress(value=1.0, bar_style='info', max=1.0), HTML(value='')))"
      ]
     },
     "metadata": {},
     "output_type": "display_data"
    }
   ],
   "source": [
    "structs_with_forces = read_dataset('forces/gphase/t-1/11_cis-pos-1.xyz', 'forces/gphase/t-1/forces')\n",
    "structs_with_forces = structs_with_forces\n",
    "struct_description, amber_coeffs = get_struct_description('test-Olesya/Initial_parameters_with_numbers_and_dihedrals_only.txt')\n",
    "# dataset = get_dataset(structs_with_forces, struct_description)"
   ]
  },
  {
   "cell_type": "code",
   "execution_count": 4,
   "metadata": {},
   "outputs": [],
   "source": [
    "thetas = {\n",
    "    'bonds': amber_coeffs.bonds_zero_values,\n",
    "    'angles': amber_coeffs.angles_zero_values,\n",
    "    'torsions': amber_coeffs.torsions_zero_phase,\n",
    "    'ns': amber_coeffs.ns,\n",
    "    'q': amber_coeffs.qs,\n",
    "    'sigma_for_vdw': amber_coeffs.sigma_for_vdw,\n",
    "    'epsilon_for_vdw': amber_coeffs.epsilons_for_vdw\n",
    "}"
   ]
  },
  {
   "cell_type": "code",
   "execution_count": 5,
   "metadata": {},
   "outputs": [
    {
     "name": "stderr",
     "output_type": "stream",
     "text": [
      "/home/gnovikov/miniconda3/envs/ml/lib/python3.7/site-packages/jax/lib/xla_bridge.py:119: UserWarning: No GPU/TPU found, falling back to CPU.\n",
      "  warnings.warn('No GPU/TPU found, falling back to CPU.')\n"
     ]
    }
   ],
   "source": [
    "all_coords = np.array([struct.coords for struct in structs_with_forces])\n",
    "None"
   ]
  },
  {
   "cell_type": "code",
   "execution_count": 6,
   "metadata": {},
   "outputs": [
    {
     "name": "stdout",
     "output_type": "stream",
     "text": [
      "\n"
     ]
    }
   ],
   "source": [
    "energy = np.array([struct.energy for struct in structs_with_forces])\n",
    "forces = np.array([struct.forces for struct in structs_with_forces])"
   ]
  },
  {
   "cell_type": "code",
   "execution_count": 7,
   "metadata": {},
   "outputs": [],
   "source": [
    "forces = forces.reshape(-1)"
   ]
  },
  {
   "cell_type": "code",
   "execution_count": 8,
   "metadata": {},
   "outputs": [],
   "source": [
    "# HH_map = xyz2bat2constr_HH_map(all_coords, struct_description, thetas)"
   ]
  },
  {
   "cell_type": "code",
   "execution_count": 9,
   "metadata": {},
   "outputs": [],
   "source": [
    "# HH_map = HH_map.reshape(-1, HH_map.shape[-1])"
   ]
  },
  {
   "cell_type": "code",
   "execution_count": null,
   "metadata": {},
   "outputs": [
    {
     "name": "stdout",
     "output_type": "stream",
     "text": [
      "3.470839738845825\n",
      "(654759, 3164)\n",
      "(654759,)\n"
     ]
    }
   ],
   "source": [
    "de = DE(all_coords, struct_description, amber_coeffs, forces)\n",
    "l_bonds = len(amber_coeffs.bonds_zero_values)\n",
    "l_angles = len(amber_coeffs.angles_zero_values)\n",
    "l_torsions = len(amber_coeffs.torsions_zero_phase)\n",
    "l_q = len(amber_coeffs.qs)\n",
    "l_sigma = len(amber_coeffs.sigma_for_vdw)\n",
    "l_epsilon = len(amber_coeffs.epsilons_for_vdw)\n",
    "\n",
    "k = l_bonds + l_angles + l_torsions + l_q + l_sigma + l_epsilon + 1\n",
    "de.run(k, 10)"
   ]
  }
 ],
 "metadata": {
  "kernelspec": {
   "display_name": "Python 3",
   "language": "python",
   "name": "python3"
  },
  "language_info": {
   "codemirror_mode": {
    "name": "ipython",
    "version": 3
   },
   "file_extension": ".py",
   "mimetype": "text/x-python",
   "name": "python",
   "nbconvert_exporter": "python",
   "pygments_lexer": "ipython3",
   "version": "3.7.4"
  }
 },
 "nbformat": 4,
 "nbformat_minor": 2
}

{
 "cells": [
  {
   "cell_type": "code",
   "execution_count": 1,
   "metadata": {
    "scrolled": false
   },
   "outputs": [],
   "source": [
    "%load_ext autoreload\n",
    "%autoreload 2"
   ]
  },
  {
   "cell_type": "code",
   "execution_count": 2,
   "metadata": {},
   "outputs": [
    {
     "name": "stderr",
     "output_type": "stream",
     "text": [
      "/home/xomaiya/.conda/envs/ml/lib/python3.7/site-packages/tqdm/autonotebook.py:17: TqdmExperimentalWarning: Using `tqdm.autonotebook.tqdm` in notebook mode. Use `tqdm.tqdm` instead to force console mode (e.g. in jupyter console)\n",
      "  \" (e.g. in jupyter console)\", TqdmExperimentalWarning)\n"
     ]
    }
   ],
   "source": [
    "import numpy as np\n",
    "import matplotlib.pyplot as plt\n",
    "from ridgeRegression import *\n",
    "from diffevol import *\n",
    "import openbabel as ob\n",
    "from moleculToVector import *\n",
    "from thetas import *"
   ]
  },
  {
   "cell_type": "code",
   "execution_count": 3,
   "metadata": {},
   "outputs": [
    {
     "data": {
      "application/vnd.jupyter.widget-view+json": {
       "model_id": "ca8067253462466882389d178d733280",
       "version_major": 2,
       "version_minor": 0
      },
      "text/plain": [
       "HBox(children=(IntProgress(value=1, bar_style='info', max=1), HTML(value='')))"
      ]
     },
     "metadata": {},
     "output_type": "display_data"
    },
    {
     "data": {
      "application/vnd.jupyter.widget-view+json": {
       "model_id": "2f20aa28d7924a5bbdd31228404e7d5c",
       "version_major": 2,
       "version_minor": 0
      },
      "text/plain": [
       "HBox(children=(IntProgress(value=0, max=28414), HTML(value='')))"
      ]
     },
     "metadata": {},
     "output_type": "display_data"
    },
    {
     "name": "stdout",
     "output_type": "stream",
     "text": [
      "\n"
     ]
    }
   ],
   "source": [
    "structs = read_dataset('test-Olesya/11_cis-pos-1.xyz')\n",
    "# structs = read_dataset('test-Olesya/11_cis-pos-1.xyz') + read_dataset('test-Olesya/11_cis-pos-1_1.xyz')\n",
    "struct_description, amber_coeffs = get_struct_description()\n",
    "dataset = get_dataset(structs, struct_description)\n",
    "thetas = get_initial_thetas()"
   ]
  },
  {
   "cell_type": "code",
   "execution_count": 4,
   "metadata": {
    "scrolled": true
   },
   "outputs": [
    {
     "data": {
      "application/vnd.jupyter.widget-view+json": {
       "model_id": "8281a68ed2cf43ed9fd3dd35eea640ec",
       "version_major": 2,
       "version_minor": 0
      },
      "text/plain": [
       "HBox(children=(IntProgress(value=1, bar_style='info', max=1), HTML(value='')))"
      ]
     },
     "metadata": {},
     "output_type": "display_data"
    }
   ],
   "source": [
    "structs_with_forces = read_dataset('forces/gphase/t-1/11_cis-pos-1.xyz', 'forces/gphase/t-1/forces')\n",
    "structs_with_forces = structs_with_forces[:1000]"
   ]
  },
  {
   "cell_type": "code",
   "execution_count": 8,
   "metadata": {},
   "outputs": [
    {
     "data": {
      "application/vnd.jupyter.widget-view+json": {
       "model_id": "b9c27fe733794aa58df0a6f84c7c7656",
       "version_major": 2,
       "version_minor": 0
      },
      "text/plain": [
       "HBox(children=(IntProgress(value=0, max=1000), HTML(value='')))"
      ]
     },
     "metadata": {},
     "output_type": "display_data"
    },
    {
     "name": "stdout",
     "output_type": "stream",
     "text": [
      "\n"
     ]
    }
   ],
   "source": [
    "struct_description, amber_coeffs = get_struct_description()\n",
    "dataset = get_dataset(structs_with_forces, struct_description)\n",
    "thetas = get_initial_thetas()"
   ]
  },
  {
   "cell_type": "code",
   "execution_count": 11,
   "metadata": {},
   "outputs": [
    {
     "ename": "KeyboardInterrupt",
     "evalue": "",
     "output_type": "error",
     "traceback": [
      "\u001b[0;31m---------------------------------------------------------------------------\u001b[0m",
      "\u001b[0;31mKeyboardInterrupt\u001b[0m                         Traceback (most recent call last)",
      "\u001b[0;32m<ipython-input-11-53491ea1cc60>\u001b[0m in \u001b[0;36m<module>\u001b[0;34m\u001b[0m\n\u001b[1;32m      1\u001b[0m \u001b[0mN\u001b[0m \u001b[0;34m=\u001b[0m \u001b[0mdataset\u001b[0m\u001b[0;34m.\u001b[0m\u001b[0mbonds_matrix\u001b[0m\u001b[0;34m.\u001b[0m\u001b[0mshape\u001b[0m\u001b[0;34m[\u001b[0m\u001b[0;36m1\u001b[0m\u001b[0;34m]\u001b[0m \u001b[0;34m+\u001b[0m \u001b[0mdataset\u001b[0m\u001b[0;34m.\u001b[0m\u001b[0mangles_matrix\u001b[0m\u001b[0;34m.\u001b[0m\u001b[0mshape\u001b[0m\u001b[0;34m[\u001b[0m\u001b[0;36m1\u001b[0m\u001b[0;34m]\u001b[0m \u001b[0;34m+\u001b[0m \u001b[0mdataset\u001b[0m\u001b[0;34m.\u001b[0m\u001b[0mtorsions_matrix\u001b[0m\u001b[0;34m.\u001b[0m\u001b[0mshape\u001b[0m\u001b[0;34m[\u001b[0m\u001b[0;36m1\u001b[0m\u001b[0;34m]\u001b[0m \u001b[0;34m+\u001b[0m \u001b[0mdataset\u001b[0m\u001b[0;34m.\u001b[0m\u001b[0mpairs_matrix\u001b[0m\u001b[0;34m.\u001b[0m\u001b[0mshape\u001b[0m\u001b[0;34m[\u001b[0m\u001b[0;36m1\u001b[0m\u001b[0;34m]\u001b[0m \u001b[0;34m+\u001b[0m \u001b[0mlen\u001b[0m\u001b[0;34m(\u001b[0m\u001b[0mstruct_description\u001b[0m\u001b[0;34m.\u001b[0m\u001b[0matoms\u001b[0m\u001b[0;34m)\u001b[0m \u001b[0;34m+\u001b[0m \u001b[0;36m1\u001b[0m\u001b[0;34m\u001b[0m\u001b[0;34m\u001b[0m\u001b[0m\n\u001b[0;32m----> 2\u001b[0;31m \u001b[0mHH\u001b[0m\u001b[0;34m,\u001b[0m \u001b[0mstd\u001b[0m \u001b[0;34m=\u001b[0m \u001b[0mconstrHH\u001b[0m\u001b[0;34m(\u001b[0m\u001b[0mdataset_with_description\u001b[0m\u001b[0;34m[\u001b[0m\u001b[0;36m0\u001b[0m\u001b[0;34m]\u001b[0m\u001b[0;34m,\u001b[0m \u001b[0mdataset_with_description\u001b[0m\u001b[0;34m[\u001b[0m\u001b[0;36m1\u001b[0m\u001b[0;34m]\u001b[0m\u001b[0;34m,\u001b[0m \u001b[0mnp\u001b[0m\u001b[0;34m.\u001b[0m\u001b[0mones\u001b[0m\u001b[0;34m(\u001b[0m\u001b[0mN\u001b[0m\u001b[0;34m)\u001b[0m\u001b[0;34m)\u001b[0m\u001b[0;34m\u001b[0m\u001b[0;34m\u001b[0m\u001b[0m\n\u001b[0m",
      "\u001b[0;32m~/LRR-DE/ridgeRegression.py\u001b[0m in \u001b[0;36mconstrHH\u001b[0;34m(dataset, struct_descr, thetas)\u001b[0m\n\u001b[1;32m    167\u001b[0m                 \u001b[0mK\u001b[0m \u001b[0;34m=\u001b[0m \u001b[0mstruct_descr\u001b[0m\u001b[0;34m.\u001b[0m\u001b[0mns\u001b[0m\u001b[0;34m[\u001b[0m\u001b[0mj\u001b[0m\u001b[0;34m]\u001b[0m \u001b[0;34m*\u001b[0m \u001b[0mnp\u001b[0m\u001b[0;34m.\u001b[0m\u001b[0msin\u001b[0m\u001b[0;34m(\u001b[0m\u001b[0mtors\u001b[0m \u001b[0;34m*\u001b[0m \u001b[0mstruct_descr\u001b[0m\u001b[0;34m.\u001b[0m\u001b[0mns\u001b[0m\u001b[0;34m[\u001b[0m\u001b[0mj\u001b[0m\u001b[0;34m]\u001b[0m \u001b[0;34m+\u001b[0m \u001b[0mthetas\u001b[0m\u001b[0;34m[\u001b[0m\u001b[0mj\u001b[0m \u001b[0;34m+\u001b[0m \u001b[0mb\u001b[0m \u001b[0;34m+\u001b[0m \u001b[0ma\u001b[0m\u001b[0;34m]\u001b[0m\u001b[0;34m)\u001b[0m \u001b[0;34m*\u001b[0m \u001b[0;36m1\u001b[0m \u001b[0;34m/\u001b[0m \u001b[0mnp\u001b[0m\u001b[0;34m.\u001b[0m\u001b[0msin\u001b[0m\u001b[0;34m(\u001b[0m\u001b[0mtors\u001b[0m\u001b[0;34m)\u001b[0m\u001b[0;34m\u001b[0m\u001b[0;34m\u001b[0m\u001b[0m\n\u001b[1;32m    168\u001b[0m \u001b[0;34m\u001b[0m\u001b[0m\n\u001b[0;32m--> 169\u001b[0;31m                 \u001b[0mA\u001b[0m \u001b[0;34m=\u001b[0m \u001b[0mnp\u001b[0m\u001b[0;34m.\u001b[0m\u001b[0mcross\u001b[0m\u001b[0;34m(\u001b[0m\u001b[0mrij\u001b[0m\u001b[0;34m,\u001b[0m \u001b[0mrjk\u001b[0m\u001b[0;34m)\u001b[0m\u001b[0;34m\u001b[0m\u001b[0;34m\u001b[0m\u001b[0m\n\u001b[0m\u001b[1;32m    170\u001b[0m                 \u001b[0mB\u001b[0m \u001b[0;34m=\u001b[0m \u001b[0mnp\u001b[0m\u001b[0;34m.\u001b[0m\u001b[0mcross\u001b[0m\u001b[0;34m(\u001b[0m\u001b[0mrjk\u001b[0m\u001b[0;34m,\u001b[0m \u001b[0mrkl\u001b[0m\u001b[0;34m)\u001b[0m\u001b[0;34m\u001b[0m\u001b[0;34m\u001b[0m\u001b[0m\n\u001b[1;32m    171\u001b[0m                 \u001b[0mdif\u001b[0m \u001b[0;34m=\u001b[0m \u001b[0mB\u001b[0m \u001b[0;34m-\u001b[0m \u001b[0mtors_c\u001b[0m \u001b[0;34m*\u001b[0m \u001b[0mA\u001b[0m\u001b[0;34m\u001b[0m\u001b[0;34m\u001b[0m\u001b[0m\n",
      "\u001b[0;32m<__array_function__ internals>\u001b[0m in \u001b[0;36mcross\u001b[0;34m(*args, **kwargs)\u001b[0m\n",
      "\u001b[0;32m~/.conda/envs/ml/lib/python3.7/site-packages/numpy/core/numeric.py\u001b[0m in \u001b[0;36mcross\u001b[0;34m(a, b, axisa, axisb, axisc, axis)\u001b[0m\n\u001b[1;32m   1610\u001b[0m             \u001b[0mcp2\u001b[0m \u001b[0;34m-=\u001b[0m \u001b[0ma1\u001b[0m \u001b[0;34m*\u001b[0m \u001b[0mb0\u001b[0m\u001b[0;34m\u001b[0m\u001b[0;34m\u001b[0m\u001b[0m\n\u001b[1;32m   1611\u001b[0m \u001b[0;34m\u001b[0m\u001b[0m\n\u001b[0;32m-> 1612\u001b[0;31m     \u001b[0;32mreturn\u001b[0m \u001b[0mmoveaxis\u001b[0m\u001b[0;34m(\u001b[0m\u001b[0mcp\u001b[0m\u001b[0;34m,\u001b[0m \u001b[0;34m-\u001b[0m\u001b[0;36m1\u001b[0m\u001b[0;34m,\u001b[0m \u001b[0maxisc\u001b[0m\u001b[0;34m)\u001b[0m\u001b[0;34m\u001b[0m\u001b[0;34m\u001b[0m\u001b[0m\n\u001b[0m\u001b[1;32m   1613\u001b[0m \u001b[0;34m\u001b[0m\u001b[0m\n\u001b[1;32m   1614\u001b[0m \u001b[0;34m\u001b[0m\u001b[0m\n",
      "\u001b[0;31mKeyboardInterrupt\u001b[0m: "
     ]
    }
   ],
   "source": [
    "N = dataset.bonds_matrix.shape[1] + dataset.angles_matrix.shape[1] + dataset.torsions_matrix.shape[1] + dataset.pairs_matrix.shape[1] + len(struct_description.atoms) + 1\n",
    "HH, std = constrHH(dataset_with_description[0], dataset_with_description[1], np.ones(N))"
   ]
  },
  {
   "cell_type": "code",
   "execution_count": 5,
   "metadata": {},
   "outputs": [],
   "source": [
    "y = np.array([struct.energy for struct in structs])"
   ]
  },
  {
   "cell_type": "code",
   "execution_count": 12,
   "metadata": {
    "scrolled": true
   },
   "outputs": [
    {
     "name": "stdout",
     "output_type": "stream",
     "text": [
      "525.7471161558544\n",
      "501.5144426170654\n",
      "315.5460482376598\n",
      "315.5460482376598\n",
      "315.5460482376598\n",
      "265.80751330959924\n",
      "114.99663920849318\n",
      "114.99663920849318\n",
      "69.9277718907353\n",
      "35.991840434954\n",
      "33.278823519820286\n",
      "22.736372073194882\n",
      "11.828821415336904\n",
      "11.828821415336904\n",
      "11.828821415336904\n",
      "10.878770367180973\n",
      "8.815532393703153\n",
      "7.816091046974558\n",
      "5.595630275146705\n",
      "5.595630275146705\n",
      "5.595630275146705\n",
      "5.595630275146705\n",
      "5.595630275146705\n",
      "5.595630275146705\n",
      "5.436799721110078\n",
      "5.295281061155782\n",
      "5.283167542500129\n",
      "5.283167542500129\n",
      "4.9143685478562285\n",
      "4.9143685478562285\n",
      "4.9143685478562285\n",
      "4.9143685478562285\n",
      "4.9143685478562285\n",
      "4.9143685478562285\n",
      "4.9143685478562285\n",
      "4.9143685478562285\n",
      "4.9143685478562285\n",
      "4.9143685478562285\n",
      "4.9143685478562285\n",
      "4.9143685478562285\n",
      "4.9143685478562285\n",
      "4.9143685478562285\n",
      "4.610354313576931\n",
      "4.610354313576931\n",
      "4.325288455737028\n",
      "4.325288455737028\n",
      "4.325288455737028\n",
      "4.325288455737028\n",
      "4.325288455737028\n",
      "4.325288455737028\n",
      "4.325288455737028\n",
      "4.325288455737028\n",
      "4.325288455737028\n",
      "4.325288455737028\n",
      "4.325288455737028\n",
      "4.325288455737028\n",
      "4.325288455737028\n",
      "4.325288455737028\n",
      "4.325288455737028\n",
      "4.325288455737028\n",
      "4.325288455737028\n",
      "4.325288455737028\n",
      "4.325288455737028\n",
      "4.325288455737028\n",
      "4.325288455737028\n",
      "4.325288455737028\n",
      "4.325288455737028\n",
      "4.325288455737028\n",
      "4.325288455737028\n",
      "4.325288455737028\n",
      "4.325288455737028\n",
      "4.325288455737028\n",
      "4.325288455737028\n",
      "4.325288455737028\n",
      "4.325288455737028\n",
      "4.325288455737028\n",
      "4.325288455737028\n",
      "4.325288455737028\n",
      "4.325288455737028\n",
      "4.325288455737028\n",
      "4.325288455737028\n",
      "4.325288455737028\n",
      "4.325288455737028\n",
      "4.325288455737028\n",
      "4.3054895817069765\n",
      "4.3054895817069765\n",
      "4.273132141181704\n",
      "4.273132141181704\n",
      "4.273132141181704\n",
      "4.1540851107862755\n",
      "4.1540851107862755\n",
      "4.1540851107862755\n",
      "4.1540851107862755\n",
      "4.1540851107862755\n",
      "4.1540851107862755\n",
      "4.1540851107862755\n",
      "4.1540851107862755\n",
      "4.1540851107862755\n",
      "4.1540851107862755\n",
      "4.1540851107862755\n",
      "4.1540851107862755\n",
      "4.1540851107862755\n",
      "4.1540851107862755\n",
      "4.1540851107862755\n",
      "4.1540851107862755\n",
      "4.1540851107862755\n",
      "4.1540851107862755\n",
      "4.1540851107862755\n",
      "4.1540851107862755\n",
      "4.1540851107862755\n",
      "4.1540851107862755\n",
      "4.1540851107862755\n",
      "4.1540851107862755\n",
      "4.1540851107862755\n",
      "4.1540851107862755\n",
      "4.1540851107862755\n",
      "4.1540851107862755\n",
      "3.7801239536958526\n",
      "3.7801239536958526\n",
      "3.7801239536958526\n",
      "3.7801239536958526\n",
      "3.7801239536958526\n",
      "3.7801239536958526\n",
      "3.7801239536958526\n",
      "3.7801239536958526\n",
      "3.7801239536958526\n",
      "3.7801239536958526\n",
      "3.7801239536958526\n",
      "3.7801239536958526\n",
      "3.7801239536958526\n",
      "3.7801239536958526\n",
      "3.7801239536958526\n",
      "3.7801239536958526\n",
      "3.718122308962861\n",
      "3.718122308962861\n",
      "3.718122308962861\n",
      "3.718122308962861\n",
      "3.718122308962861\n",
      "3.718122308962861\n",
      "3.718122308962861\n",
      "3.718122308962861\n",
      "3.718122308962861\n",
      "3.718122308962861\n",
      "3.718122308962861\n",
      "3.718122308962861\n",
      "3.718122308962861\n",
      "3.718122308962861\n",
      "3.718122308962861\n",
      "3.718122308962861\n",
      "3.718122308962861\n",
      "3.718122308962861\n",
      "3.718122308962861\n",
      "3.718122308962861\n",
      "3.718122308962861\n",
      "3.718122308962861\n",
      "3.718122308962861\n",
      "3.718122308962861\n",
      "3.718122308962861\n",
      "3.718122308962861\n",
      "3.718122308962861\n",
      "3.718122308962861\n",
      "3.4596383877915415\n",
      "3.4596383877915415\n",
      "3.4596383877915415\n",
      "3.4596383877915415\n",
      "3.4596383877915415\n",
      "3.4596383877915415\n",
      "3.4596383877915415\n",
      "3.4596383877915415\n",
      "3.4596383877915415\n",
      "3.4596383877915415\n",
      "3.4596383877915415\n",
      "3.4596383877915415\n",
      "3.4596383877915415\n",
      "3.4596383877915415\n",
      "3.4596383877915415\n",
      "3.4596383877915415\n",
      "3.4596383877915415\n",
      "3.4596383877915415\n",
      "3.4596383877915415\n",
      "3.4596383877915415\n",
      "3.4596383877915415\n",
      "3.4596383877915415\n",
      "3.4596383877915415\n",
      "3.4596383877915415\n",
      "3.4596383877915415\n",
      "3.4596383877915415\n",
      "3.4596383877915415\n",
      "3.4596383877915415\n",
      "3.4596383877915415\n",
      "3.4596383877915415\n",
      "3.4596383877915415\n",
      "3.4596383877915415\n",
      "3.4596383877915415\n",
      "3.4596383877915415\n",
      "3.4596383877915415\n",
      "3.4596383877915415\n",
      "3.4596383877915415\n",
      "3.4596383877915415\n",
      "3.4596383877915415\n",
      "3.4596383877915415\n",
      "3.4596383877915415\n",
      "3.4596383877915415\n",
      "3.4596383877915415\n",
      "3.4596383877915415\n",
      "3.4596383877915415\n",
      "3.4596383877915415\n",
      "3.4596383877915415\n",
      "3.4596383877915415\n",
      "3.4596383877915415\n",
      "3.4596383877915415\n",
      "3.4596383877915415\n",
      "3.4596383877915415\n",
      "3.4596383877915415\n",
      "3.4596383877915415\n",
      "3.4596383877915415\n",
      "3.4596383877915415\n",
      "3.4596383877915415\n",
      "3.4596383877915415\n",
      "3.4596383877915415\n",
      "3.4596383877915415\n",
      "3.4596383877915415\n",
      "3.4596383877915415\n",
      "3.4596383877915415\n",
      "3.4596383877915415\n",
      "3.4596383877915415\n",
      "3.4596383877915415\n",
      "3.4596383877915415\n",
      "3.4596383877915415\n",
      "3.4596383877915415\n",
      "3.4596383877915415\n",
      "3.4596383877915415\n",
      "3.4596383877915415\n",
      "3.4596383877915415\n",
      "3.4596383877915415\n",
      "3.4596383877915415\n",
      "3.4596383877915415\n",
      "3.4596383877915415\n",
      "3.4596383877915415\n",
      "3.4596383877915415\n",
      "3.4596383877915415\n",
      "3.4596383877915415\n",
      "3.4596383877915415\n",
      "3.4596383877915415\n",
      "3.4596383877915415\n"
     ]
    },
    {
     "ename": "KeyboardInterrupt",
     "evalue": "",
     "output_type": "error",
     "traceback": [
      "\u001b[0;31m---------------------------------------------------------------------------\u001b[0m",
      "\u001b[0;31mKeyboardInterrupt\u001b[0m                         Traceback (most recent call last)",
      "\u001b[0;32m<ipython-input-12-84ab7b6e0619>\u001b[0m in \u001b[0;36m<module>\u001b[0;34m\u001b[0m\n\u001b[1;32m      2\u001b[0m \u001b[0mde\u001b[0m \u001b[0;34m=\u001b[0m \u001b[0mDE\u001b[0m\u001b[0;34m(\u001b[0m\u001b[0mdataset\u001b[0m\u001b[0;34m,\u001b[0m \u001b[0mstruct_description\u001b[0m\u001b[0;34m,\u001b[0m \u001b[0my\u001b[0m\u001b[0;34m)\u001b[0m\u001b[0;34m\u001b[0m\u001b[0;34m\u001b[0m\u001b[0m\n\u001b[1;32m      3\u001b[0m \u001b[0mN\u001b[0m \u001b[0;34m=\u001b[0m \u001b[0mdataset\u001b[0m\u001b[0;34m.\u001b[0m\u001b[0mbonds_matrix\u001b[0m\u001b[0;34m.\u001b[0m\u001b[0mshape\u001b[0m\u001b[0;34m[\u001b[0m\u001b[0;36m1\u001b[0m\u001b[0;34m]\u001b[0m \u001b[0;34m+\u001b[0m \u001b[0mdataset\u001b[0m\u001b[0;34m.\u001b[0m\u001b[0mangles_matrix\u001b[0m\u001b[0;34m.\u001b[0m\u001b[0mshape\u001b[0m\u001b[0;34m[\u001b[0m\u001b[0;36m1\u001b[0m\u001b[0;34m]\u001b[0m \u001b[0;34m+\u001b[0m \u001b[0mdataset\u001b[0m\u001b[0;34m.\u001b[0m\u001b[0mtorsions_matrix\u001b[0m\u001b[0;34m.\u001b[0m\u001b[0mshape\u001b[0m\u001b[0;34m[\u001b[0m\u001b[0;36m1\u001b[0m\u001b[0;34m]\u001b[0m \u001b[0;34m+\u001b[0m \u001b[0mdataset\u001b[0m\u001b[0;34m.\u001b[0m\u001b[0mpairs_matrix\u001b[0m\u001b[0;34m.\u001b[0m\u001b[0mshape\u001b[0m\u001b[0;34m[\u001b[0m\u001b[0;36m1\u001b[0m\u001b[0;34m]\u001b[0m \u001b[0;34m+\u001b[0m \u001b[0mlen\u001b[0m\u001b[0;34m(\u001b[0m\u001b[0mstruct_description\u001b[0m\u001b[0;34m.\u001b[0m\u001b[0matoms\u001b[0m\u001b[0;34m)\u001b[0m \u001b[0;34m+\u001b[0m \u001b[0;36m1\u001b[0m\u001b[0;34m\u001b[0m\u001b[0;34m\u001b[0m\u001b[0m\n\u001b[0;32m----> 4\u001b[0;31m \u001b[0mde\u001b[0m\u001b[0;34m.\u001b[0m\u001b[0mrun\u001b[0m\u001b[0;34m(\u001b[0m\u001b[0mN\u001b[0m\u001b[0;34m,\u001b[0m \u001b[0;36m10\u001b[0m\u001b[0;34m)\u001b[0m\u001b[0;34m\u001b[0m\u001b[0;34m\u001b[0m\u001b[0m\n\u001b[0m",
      "\u001b[0;32m~/LRR-DE/diffevol.py\u001b[0m in \u001b[0;36mrun\u001b[0;34m(self, k, N, F, Cr)\u001b[0m\n\u001b[1;32m     78\u001b[0m             \u001b[0mV\u001b[0m \u001b[0;34m=\u001b[0m \u001b[0mself\u001b[0m\u001b[0;34m.\u001b[0m\u001b[0mmutation\u001b[0m\u001b[0;34m(\u001b[0m\u001b[0mP\u001b[0m\u001b[0;34m,\u001b[0m \u001b[0mF\u001b[0m\u001b[0;34m)\u001b[0m\u001b[0;34m\u001b[0m\u001b[0;34m\u001b[0m\u001b[0m\n\u001b[1;32m     79\u001b[0m             \u001b[0mU\u001b[0m \u001b[0;34m=\u001b[0m \u001b[0mself\u001b[0m\u001b[0;34m.\u001b[0m\u001b[0mcrossover\u001b[0m\u001b[0;34m(\u001b[0m\u001b[0mV\u001b[0m\u001b[0;34m,\u001b[0m \u001b[0mP\u001b[0m\u001b[0;34m,\u001b[0m \u001b[0mCr\u001b[0m\u001b[0;34m)\u001b[0m\u001b[0;34m\u001b[0m\u001b[0;34m\u001b[0m\u001b[0m\n\u001b[0;32m---> 80\u001b[0;31m             \u001b[0mP\u001b[0m\u001b[0;34m,\u001b[0m \u001b[0mfp\u001b[0m \u001b[0;34m=\u001b[0m \u001b[0mself\u001b[0m\u001b[0;34m.\u001b[0m\u001b[0mselection\u001b[0m\u001b[0;34m(\u001b[0m\u001b[0mP\u001b[0m\u001b[0;34m,\u001b[0m \u001b[0mfp\u001b[0m\u001b[0;34m,\u001b[0m \u001b[0mU\u001b[0m\u001b[0;34m)\u001b[0m\u001b[0;34m\u001b[0m\u001b[0;34m\u001b[0m\u001b[0m\n\u001b[0m\u001b[1;32m     81\u001b[0m             \u001b[0mself\u001b[0m\u001b[0;34m.\u001b[0m\u001b[0mbest_p\u001b[0m \u001b[0;34m=\u001b[0m \u001b[0mP\u001b[0m\u001b[0;34m[\u001b[0m\u001b[0mnp\u001b[0m\u001b[0;34m.\u001b[0m\u001b[0margmin\u001b[0m\u001b[0;34m(\u001b[0m\u001b[0mfp\u001b[0m\u001b[0;34m)\u001b[0m\u001b[0;34m]\u001b[0m\u001b[0;34m\u001b[0m\u001b[0;34m\u001b[0m\u001b[0m\n\u001b[1;32m     82\u001b[0m             \u001b[0mprint\u001b[0m\u001b[0;34m(\u001b[0m\u001b[0mnp\u001b[0m\u001b[0;34m.\u001b[0m\u001b[0mmin\u001b[0m\u001b[0;34m(\u001b[0m\u001b[0mfp\u001b[0m\u001b[0;34m)\u001b[0m\u001b[0;34m)\u001b[0m\u001b[0;34m\u001b[0m\u001b[0;34m\u001b[0m\u001b[0m\n",
      "\u001b[0;32m~/LRR-DE/diffevol.py\u001b[0m in \u001b[0;36mselection\u001b[0;34m(self, P, fp, U)\u001b[0m\n\u001b[1;32m     56\u001b[0m \u001b[0;34m\u001b[0m\u001b[0m\n\u001b[1;32m     57\u001b[0m     \u001b[0;32mdef\u001b[0m \u001b[0mselection\u001b[0m\u001b[0;34m(\u001b[0m\u001b[0mself\u001b[0m\u001b[0;34m,\u001b[0m \u001b[0mP\u001b[0m\u001b[0;34m,\u001b[0m \u001b[0mfp\u001b[0m\u001b[0;34m,\u001b[0m \u001b[0mU\u001b[0m\u001b[0;34m)\u001b[0m\u001b[0;34m:\u001b[0m\u001b[0;34m\u001b[0m\u001b[0;34m\u001b[0m\u001b[0m\n\u001b[0;32m---> 58\u001b[0;31m         \u001b[0mfu\u001b[0m \u001b[0;34m=\u001b[0m \u001b[0mself\u001b[0m\u001b[0;34m.\u001b[0m\u001b[0mf_for_population\u001b[0m\u001b[0;34m(\u001b[0m\u001b[0mU\u001b[0m\u001b[0;34m)\u001b[0m\u001b[0;34m\u001b[0m\u001b[0;34m\u001b[0m\u001b[0m\n\u001b[0m\u001b[1;32m     59\u001b[0m         \u001b[0mto_replace\u001b[0m \u001b[0;34m=\u001b[0m \u001b[0mfp\u001b[0m \u001b[0;34m>\u001b[0m \u001b[0mfu\u001b[0m\u001b[0;34m\u001b[0m\u001b[0;34m\u001b[0m\u001b[0m\n\u001b[1;32m     60\u001b[0m         \u001b[0mP\u001b[0m\u001b[0;34m[\u001b[0m\u001b[0mto_replace\u001b[0m\u001b[0;34m]\u001b[0m \u001b[0;34m=\u001b[0m \u001b[0mU\u001b[0m\u001b[0;34m[\u001b[0m\u001b[0mto_replace\u001b[0m\u001b[0;34m]\u001b[0m\u001b[0;34m\u001b[0m\u001b[0;34m\u001b[0m\u001b[0m\n",
      "\u001b[0;32m~/LRR-DE/diffevol.py\u001b[0m in \u001b[0;36mf_for_population\u001b[0;34m(self, P)\u001b[0m\n\u001b[1;32m     28\u001b[0m         \u001b[0;31m# ограничение для зарядов (от -0.5 до 0.5)\u001b[0m\u001b[0;34m\u001b[0m\u001b[0;34m\u001b[0m\u001b[0;34m\u001b[0m\u001b[0m\n\u001b[1;32m     29\u001b[0m         \u001b[0mP\u001b[0m\u001b[0;34m[\u001b[0m\u001b[0;34m:\u001b[0m\u001b[0;34m,\u001b[0m \u001b[0mb\u001b[0m \u001b[0;34m+\u001b[0m \u001b[0ma\u001b[0m \u001b[0;34m+\u001b[0m \u001b[0mt\u001b[0m \u001b[0;34m+\u001b[0m \u001b[0mp\u001b[0m\u001b[0;34m:\u001b[0m\u001b[0mb\u001b[0m \u001b[0;34m+\u001b[0m \u001b[0ma\u001b[0m \u001b[0;34m+\u001b[0m \u001b[0mt\u001b[0m \u001b[0;34m+\u001b[0m \u001b[0mp\u001b[0m\u001b[0;34m*\u001b[0m\u001b[0;36m2\u001b[0m\u001b[0;34m]\u001b[0m \u001b[0;34m=\u001b[0m \u001b[0mnp\u001b[0m\u001b[0;34m.\u001b[0m\u001b[0mclip\u001b[0m\u001b[0;34m(\u001b[0m\u001b[0mP\u001b[0m\u001b[0;34m[\u001b[0m\u001b[0;34m:\u001b[0m\u001b[0;34m,\u001b[0m \u001b[0mb\u001b[0m \u001b[0;34m+\u001b[0m \u001b[0ma\u001b[0m \u001b[0;34m+\u001b[0m \u001b[0mt\u001b[0m \u001b[0;34m+\u001b[0m \u001b[0mp\u001b[0m\u001b[0;34m:\u001b[0m\u001b[0mb\u001b[0m \u001b[0;34m+\u001b[0m \u001b[0ma\u001b[0m \u001b[0;34m+\u001b[0m \u001b[0mt\u001b[0m \u001b[0;34m+\u001b[0m \u001b[0mp\u001b[0m\u001b[0;34m*\u001b[0m\u001b[0;36m2\u001b[0m\u001b[0;34m]\u001b[0m\u001b[0;34m,\u001b[0m \u001b[0;34m-\u001b[0m\u001b[0;36m0.5\u001b[0m\u001b[0;34m,\u001b[0m \u001b[0;36m0.5\u001b[0m\u001b[0;34m)\u001b[0m\u001b[0;34m\u001b[0m\u001b[0;34m\u001b[0m\u001b[0m\n\u001b[0;32m---> 30\u001b[0;31m         \u001b[0;32mreturn\u001b[0m \u001b[0mnp\u001b[0m\u001b[0;34m.\u001b[0m\u001b[0marray\u001b[0m\u001b[0;34m(\u001b[0m\u001b[0;34m[\u001b[0m\u001b[0mself\u001b[0m\u001b[0;34m.\u001b[0m\u001b[0mf\u001b[0m\u001b[0;34m(\u001b[0m\u001b[0mp\u001b[0m\u001b[0;34m)\u001b[0m \u001b[0;32mfor\u001b[0m \u001b[0mp\u001b[0m \u001b[0;32min\u001b[0m \u001b[0mP\u001b[0m\u001b[0;34m]\u001b[0m\u001b[0;34m)\u001b[0m\u001b[0;34m\u001b[0m\u001b[0;34m\u001b[0m\u001b[0m\n\u001b[0m\u001b[1;32m     31\u001b[0m \u001b[0;34m\u001b[0m\u001b[0m\n\u001b[1;32m     32\u001b[0m \u001b[0;34m\u001b[0m\u001b[0m\n",
      "\u001b[0;32m~/LRR-DE/diffevol.py\u001b[0m in \u001b[0;36m<listcomp>\u001b[0;34m(.0)\u001b[0m\n\u001b[1;32m     28\u001b[0m         \u001b[0;31m# ограничение для зарядов (от -0.5 до 0.5)\u001b[0m\u001b[0;34m\u001b[0m\u001b[0;34m\u001b[0m\u001b[0;34m\u001b[0m\u001b[0m\n\u001b[1;32m     29\u001b[0m         \u001b[0mP\u001b[0m\u001b[0;34m[\u001b[0m\u001b[0;34m:\u001b[0m\u001b[0;34m,\u001b[0m \u001b[0mb\u001b[0m \u001b[0;34m+\u001b[0m \u001b[0ma\u001b[0m \u001b[0;34m+\u001b[0m \u001b[0mt\u001b[0m \u001b[0;34m+\u001b[0m \u001b[0mp\u001b[0m\u001b[0;34m:\u001b[0m\u001b[0mb\u001b[0m \u001b[0;34m+\u001b[0m \u001b[0ma\u001b[0m \u001b[0;34m+\u001b[0m \u001b[0mt\u001b[0m \u001b[0;34m+\u001b[0m \u001b[0mp\u001b[0m\u001b[0;34m*\u001b[0m\u001b[0;36m2\u001b[0m\u001b[0;34m]\u001b[0m \u001b[0;34m=\u001b[0m \u001b[0mnp\u001b[0m\u001b[0;34m.\u001b[0m\u001b[0mclip\u001b[0m\u001b[0;34m(\u001b[0m\u001b[0mP\u001b[0m\u001b[0;34m[\u001b[0m\u001b[0;34m:\u001b[0m\u001b[0;34m,\u001b[0m \u001b[0mb\u001b[0m \u001b[0;34m+\u001b[0m \u001b[0ma\u001b[0m \u001b[0;34m+\u001b[0m \u001b[0mt\u001b[0m \u001b[0;34m+\u001b[0m \u001b[0mp\u001b[0m\u001b[0;34m:\u001b[0m\u001b[0mb\u001b[0m \u001b[0;34m+\u001b[0m \u001b[0ma\u001b[0m \u001b[0;34m+\u001b[0m \u001b[0mt\u001b[0m \u001b[0;34m+\u001b[0m \u001b[0mp\u001b[0m\u001b[0;34m*\u001b[0m\u001b[0;36m2\u001b[0m\u001b[0;34m]\u001b[0m\u001b[0;34m,\u001b[0m \u001b[0;34m-\u001b[0m\u001b[0;36m0.5\u001b[0m\u001b[0;34m,\u001b[0m \u001b[0;36m0.5\u001b[0m\u001b[0;34m)\u001b[0m\u001b[0;34m\u001b[0m\u001b[0;34m\u001b[0m\u001b[0m\n\u001b[0;32m---> 30\u001b[0;31m         \u001b[0;32mreturn\u001b[0m \u001b[0mnp\u001b[0m\u001b[0;34m.\u001b[0m\u001b[0marray\u001b[0m\u001b[0;34m(\u001b[0m\u001b[0;34m[\u001b[0m\u001b[0mself\u001b[0m\u001b[0;34m.\u001b[0m\u001b[0mf\u001b[0m\u001b[0;34m(\u001b[0m\u001b[0mp\u001b[0m\u001b[0;34m)\u001b[0m \u001b[0;32mfor\u001b[0m \u001b[0mp\u001b[0m \u001b[0;32min\u001b[0m \u001b[0mP\u001b[0m\u001b[0;34m]\u001b[0m\u001b[0;34m)\u001b[0m\u001b[0;34m\u001b[0m\u001b[0;34m\u001b[0m\u001b[0m\n\u001b[0m\u001b[1;32m     31\u001b[0m \u001b[0;34m\u001b[0m\u001b[0m\n\u001b[1;32m     32\u001b[0m \u001b[0;34m\u001b[0m\u001b[0m\n",
      "\u001b[0;32m~/LRR-DE/diffevol.py\u001b[0m in \u001b[0;36mf\u001b[0;34m(self, x)\u001b[0m\n\u001b[1;32m     13\u001b[0m         \u001b[0ml\u001b[0m \u001b[0;34m=\u001b[0m \u001b[0mx\u001b[0m\u001b[0;34m[\u001b[0m\u001b[0;36m0\u001b[0m\u001b[0;34m]\u001b[0m\u001b[0;34m\u001b[0m\u001b[0;34m\u001b[0m\u001b[0m\n\u001b[1;32m     14\u001b[0m         \u001b[0mthetas\u001b[0m \u001b[0;34m=\u001b[0m \u001b[0mx\u001b[0m\u001b[0;34m[\u001b[0m\u001b[0;36m1\u001b[0m\u001b[0;34m:\u001b[0m\u001b[0;34m]\u001b[0m\u001b[0;34m\u001b[0m\u001b[0;34m\u001b[0m\u001b[0m\n\u001b[0;32m---> 15\u001b[0;31m         \u001b[0merr\u001b[0m \u001b[0;34m=\u001b[0m \u001b[0mRR_LOOCV\u001b[0m\u001b[0;34m(\u001b[0m\u001b[0mself\u001b[0m\u001b[0;34m.\u001b[0m\u001b[0mdataset\u001b[0m\u001b[0;34m,\u001b[0m \u001b[0mself\u001b[0m\u001b[0;34m.\u001b[0m\u001b[0my\u001b[0m\u001b[0;34m,\u001b[0m \u001b[0ml\u001b[0m\u001b[0;34m,\u001b[0m \u001b[0mthetas\u001b[0m\u001b[0;34m,\u001b[0m \u001b[0mself\u001b[0m\u001b[0;34m.\u001b[0m\u001b[0mstruct_description\u001b[0m\u001b[0;34m)\u001b[0m\u001b[0;34m\u001b[0m\u001b[0;34m\u001b[0m\u001b[0m\n\u001b[0m\u001b[1;32m     16\u001b[0m         \u001b[0;31m# print(err)\u001b[0m\u001b[0;34m\u001b[0m\u001b[0;34m\u001b[0m\u001b[0;34m\u001b[0m\u001b[0m\n\u001b[1;32m     17\u001b[0m         \u001b[0;32mreturn\u001b[0m \u001b[0merr\u001b[0m\u001b[0;34m\u001b[0m\u001b[0;34m\u001b[0m\u001b[0m\n",
      "\u001b[0;32m~/LRR-DE/ridgeRegression.py\u001b[0m in \u001b[0;36mRR_LOOCV\u001b[0;34m(x, y, l, thetas, descr)\u001b[0m\n\u001b[1;32m     66\u001b[0m \u001b[0;34m\u001b[0m\u001b[0m\n\u001b[1;32m     67\u001b[0m \u001b[0;32mdef\u001b[0m \u001b[0mRR_LOOCV\u001b[0m\u001b[0;34m(\u001b[0m\u001b[0mx\u001b[0m\u001b[0;34m,\u001b[0m \u001b[0my\u001b[0m\u001b[0;34m,\u001b[0m \u001b[0ml\u001b[0m\u001b[0;34m,\u001b[0m \u001b[0mthetas\u001b[0m\u001b[0;34m,\u001b[0m \u001b[0mdescr\u001b[0m\u001b[0;34m)\u001b[0m\u001b[0;34m:\u001b[0m\u001b[0;34m\u001b[0m\u001b[0;34m\u001b[0m\u001b[0m\n\u001b[0;32m---> 68\u001b[0;31m     \u001b[0mH\u001b[0m\u001b[0;34m,\u001b[0m \u001b[0m_\u001b[0m \u001b[0;34m=\u001b[0m \u001b[0mconstrH\u001b[0m\u001b[0;34m(\u001b[0m\u001b[0mx\u001b[0m\u001b[0;34m,\u001b[0m \u001b[0mdescr\u001b[0m\u001b[0;34m,\u001b[0m \u001b[0mthetas\u001b[0m\u001b[0;34m)\u001b[0m\u001b[0;34m\u001b[0m\u001b[0;34m\u001b[0m\u001b[0m\n\u001b[0m\u001b[1;32m     69\u001b[0m     \u001b[0m_\u001b[0m\u001b[0;34m,\u001b[0m \u001b[0my_est\u001b[0m \u001b[0;34m=\u001b[0m \u001b[0mRidgeRegression\u001b[0m\u001b[0;34m(\u001b[0m\u001b[0mH\u001b[0m\u001b[0;34m,\u001b[0m \u001b[0my\u001b[0m\u001b[0;34m,\u001b[0m \u001b[0ml\u001b[0m\u001b[0;34m)\u001b[0m\u001b[0;34m\u001b[0m\u001b[0;34m\u001b[0m\u001b[0m\n\u001b[1;32m     70\u001b[0m     \u001b[0mL\u001b[0m \u001b[0;34m=\u001b[0m \u001b[0mLOOCV\u001b[0m\u001b[0;34m(\u001b[0m\u001b[0mH\u001b[0m\u001b[0;34m,\u001b[0m \u001b[0my\u001b[0m\u001b[0;34m,\u001b[0m \u001b[0my_est\u001b[0m\u001b[0;34m)\u001b[0m\u001b[0;34m\u001b[0m\u001b[0;34m\u001b[0m\u001b[0m\n",
      "\u001b[0;32m~/LRR-DE/ridgeRegression.py\u001b[0m in \u001b[0;36mconstrH\u001b[0;34m(dataset_matrix, struct_description, thetas)\u001b[0m\n\u001b[1;32m     36\u001b[0m     \u001b[0mH\u001b[0m\u001b[0;34m[\u001b[0m\u001b[0;34m:\u001b[0m\u001b[0;34m,\u001b[0m \u001b[0ma\u001b[0m \u001b[0;34m+\u001b[0m \u001b[0mb\u001b[0m \u001b[0;34m+\u001b[0m \u001b[0mt\u001b[0m \u001b[0;34m+\u001b[0m \u001b[0mp\u001b[0m\u001b[0;34m:\u001b[0m \u001b[0ma\u001b[0m \u001b[0;34m+\u001b[0m \u001b[0mb\u001b[0m \u001b[0;34m+\u001b[0m \u001b[0mt\u001b[0m \u001b[0;34m+\u001b[0m \u001b[0mp\u001b[0m \u001b[0;34m+\u001b[0m \u001b[0mp\u001b[0m\u001b[0;34m]\u001b[0m \u001b[0;34m=\u001b[0m \u001b[0mqq\u001b[0m \u001b[0;34m/\u001b[0m \u001b[0mdataset_matrix\u001b[0m\u001b[0;34m.\u001b[0m\u001b[0mpairs_matrix\u001b[0m\u001b[0;34m\u001b[0m\u001b[0;34m\u001b[0m\u001b[0m\n\u001b[1;32m     37\u001b[0m     \u001b[0;31m# thetas[a + b + t + p: a + b + t + p + p]\u001b[0m\u001b[0;34m\u001b[0m\u001b[0;34m\u001b[0m\u001b[0;34m\u001b[0m\u001b[0m\n\u001b[0;32m---> 38\u001b[0;31m     \u001b[0mstdH\u001b[0m \u001b[0;34m=\u001b[0m \u001b[0mH\u001b[0m\u001b[0;34m.\u001b[0m\u001b[0mstd\u001b[0m\u001b[0;34m(\u001b[0m\u001b[0maxis\u001b[0m\u001b[0;34m=\u001b[0m\u001b[0;36m0\u001b[0m\u001b[0;34m,\u001b[0m \u001b[0;34m)\u001b[0m\u001b[0;34m\u001b[0m\u001b[0;34m\u001b[0m\u001b[0m\n\u001b[0m\u001b[1;32m     39\u001b[0m     \u001b[0;31m# H /= stdH  # нормировка на среднее квадратическое значение, в H_test нужно учесть\u001b[0m\u001b[0;34m\u001b[0m\u001b[0;34m\u001b[0m\u001b[0;34m\u001b[0m\u001b[0m\n\u001b[1;32m     40\u001b[0m     \u001b[0;32mreturn\u001b[0m \u001b[0mH\u001b[0m\u001b[0;34m,\u001b[0m \u001b[0mstdH\u001b[0m\u001b[0;34m\u001b[0m\u001b[0;34m\u001b[0m\u001b[0m\n",
      "\u001b[0;32m~/.conda/envs/ml/lib/python3.7/site-packages/numpy/core/_methods.py\u001b[0m in \u001b[0;36m_std\u001b[0;34m(a, axis, dtype, out, ddof, keepdims)\u001b[0m\n\u001b[1;32m    215\u001b[0m \u001b[0;32mdef\u001b[0m \u001b[0m_std\u001b[0m\u001b[0;34m(\u001b[0m\u001b[0ma\u001b[0m\u001b[0;34m,\u001b[0m \u001b[0maxis\u001b[0m\u001b[0;34m=\u001b[0m\u001b[0;32mNone\u001b[0m\u001b[0;34m,\u001b[0m \u001b[0mdtype\u001b[0m\u001b[0;34m=\u001b[0m\u001b[0;32mNone\u001b[0m\u001b[0;34m,\u001b[0m \u001b[0mout\u001b[0m\u001b[0;34m=\u001b[0m\u001b[0;32mNone\u001b[0m\u001b[0;34m,\u001b[0m \u001b[0mddof\u001b[0m\u001b[0;34m=\u001b[0m\u001b[0;36m0\u001b[0m\u001b[0;34m,\u001b[0m \u001b[0mkeepdims\u001b[0m\u001b[0;34m=\u001b[0m\u001b[0;32mFalse\u001b[0m\u001b[0;34m)\u001b[0m\u001b[0;34m:\u001b[0m\u001b[0;34m\u001b[0m\u001b[0;34m\u001b[0m\u001b[0m\n\u001b[1;32m    216\u001b[0m     ret = _var(a, axis=axis, dtype=dtype, out=out, ddof=ddof,\n\u001b[0;32m--> 217\u001b[0;31m                keepdims=keepdims)\n\u001b[0m\u001b[1;32m    218\u001b[0m \u001b[0;34m\u001b[0m\u001b[0m\n\u001b[1;32m    219\u001b[0m     \u001b[0;32mif\u001b[0m \u001b[0misinstance\u001b[0m\u001b[0;34m(\u001b[0m\u001b[0mret\u001b[0m\u001b[0;34m,\u001b[0m \u001b[0mmu\u001b[0m\u001b[0;34m.\u001b[0m\u001b[0mndarray\u001b[0m\u001b[0;34m)\u001b[0m\u001b[0;34m:\u001b[0m\u001b[0;34m\u001b[0m\u001b[0;34m\u001b[0m\u001b[0m\n",
      "\u001b[0;32m~/.conda/envs/ml/lib/python3.7/site-packages/numpy/core/_methods.py\u001b[0m in \u001b[0;36m_var\u001b[0;34m(a, axis, dtype, out, ddof, keepdims)\u001b[0m\n\u001b[1;32m    197\u001b[0m         \u001b[0mx\u001b[0m \u001b[0;34m=\u001b[0m \u001b[0mum\u001b[0m\u001b[0;34m.\u001b[0m\u001b[0mmultiply\u001b[0m\u001b[0;34m(\u001b[0m\u001b[0mx\u001b[0m\u001b[0;34m,\u001b[0m \u001b[0mum\u001b[0m\u001b[0;34m.\u001b[0m\u001b[0mconjugate\u001b[0m\u001b[0;34m(\u001b[0m\u001b[0mx\u001b[0m\u001b[0;34m)\u001b[0m\u001b[0;34m,\u001b[0m \u001b[0mout\u001b[0m\u001b[0;34m=\u001b[0m\u001b[0mx\u001b[0m\u001b[0;34m)\u001b[0m\u001b[0;34m.\u001b[0m\u001b[0mreal\u001b[0m\u001b[0;34m\u001b[0m\u001b[0;34m\u001b[0m\u001b[0m\n\u001b[1;32m    198\u001b[0m \u001b[0;34m\u001b[0m\u001b[0m\n\u001b[0;32m--> 199\u001b[0;31m     \u001b[0mret\u001b[0m \u001b[0;34m=\u001b[0m \u001b[0mumr_sum\u001b[0m\u001b[0;34m(\u001b[0m\u001b[0mx\u001b[0m\u001b[0;34m,\u001b[0m \u001b[0maxis\u001b[0m\u001b[0;34m,\u001b[0m \u001b[0mdtype\u001b[0m\u001b[0;34m,\u001b[0m \u001b[0mout\u001b[0m\u001b[0;34m,\u001b[0m \u001b[0mkeepdims\u001b[0m\u001b[0;34m)\u001b[0m\u001b[0;34m\u001b[0m\u001b[0;34m\u001b[0m\u001b[0m\n\u001b[0m\u001b[1;32m    200\u001b[0m \u001b[0;34m\u001b[0m\u001b[0m\n\u001b[1;32m    201\u001b[0m     \u001b[0;31m# Compute degrees of freedom and make sure it is not negative.\u001b[0m\u001b[0;34m\u001b[0m\u001b[0;34m\u001b[0m\u001b[0;34m\u001b[0m\u001b[0m\n",
      "\u001b[0;31mKeyboardInterrupt\u001b[0m: "
     ]
    }
   ],
   "source": [
    "# dataset = dataset_with_description\n",
    "de = DE(dataset, struct_description, y)\n",
    "N = dataset.bonds_matrix.shape[1] + dataset.angles_matrix.shape[1] + dataset.torsions_matrix.shape[1] + dataset.pairs_matrix.shape[1] + len(struct_description.atoms) + 1\n",
    "de.run(N, 10)"
   ]
  },
  {
   "cell_type": "code",
   "execution_count": 14,
   "metadata": {},
   "outputs": [
    {
     "data": {
      "text/plain": [
       "<matplotlib.collections.PathCollection at 0x7f9ab16ad890>"
      ]
     },
     "execution_count": 14,
     "metadata": {},
     "output_type": "execute_result"
    },
    {
     "data": {
      "image/png": "[encoded data removed]",
      "text/plain": [
       "<Figure size 432x288 with 1 Axes>"
      ]
     },
     "metadata": {
      "needs_background": "light"
     },
     "output_type": "display_data"
    }
   ],
   "source": [
    "H, stdH = constrH(dataset, struct_description, de.best_p[1:])\n",
    "# y = np.array([struct[2] for struct in structs])\n",
    "y = np.array([struct.energy for struct in structs])\n",
    "l = de.best_p[0]\n",
    "C, y_est = RidgeRegression(H, y, l)\n",
    "plt.scatter(y, y_est)"
   ]
  },
  {
   "cell_type": "code",
   "execution_count": 13,
   "metadata": {},
   "outputs": [
    {
     "data": {
      "text/plain": [
       "array([[1.        , 0.95382606],\n",
       "       [0.95382606, 1.        ]])"
      ]
     },
     "execution_count": 13,
     "metadata": {},
     "output_type": "execute_result"
    }
   ],
   "source": [
    "np.corrcoef(y, y_est)"
   ]
  },
  {
   "cell_type": "code",
   "execution_count": 11,
   "metadata": {
    "scrolled": true
   },
   "outputs": [
    {
     "name": "stdout",
     "output_type": "stream",
     "text": [
      "1.09 6.403701465983985e-05\n",
      "1.09 13.583652248714767\n",
      "1.09 7.822895487574751\n",
      "1.09 1.8641948117476537\n",
      "1.526 0.6553234247718844\n",
      "1.09 1.9467042668163828\n",
      "1.09 0.423209723754101\n",
      "1.09 0.7665676748091335\n",
      "1.526 2.163044654986168\n",
      "1.526 50.31414601680875\n",
      "1.09 14.06654973503728\n",
      "1.09 0.5265540715050501\n",
      "1.51 5.129742516075391\n",
      "1.51 29.024856561480686\n",
      "1.09 0.5494837831223888\n",
      "1.471 5.641850263419495\n",
      "1.09 3.394199728071455\n",
      "1.08 3.781153267638276\n",
      "1.51 0.42193676088484816\n",
      "1.09 4.356786879693626\n",
      "1.09 1.267518500777257\n",
      "1.34 0.8210713706730741\n",
      "1.4 5.098251130429926\n",
      "1.09 1.0514905385815247\n",
      "1.471 18.74963355949858\n",
      "1.08 1.8488799835584524\n",
      "1.09 0.8400043558303786\n",
      "1.34 0.68084455518829\n",
      "1.34 1.1855120965389732\n",
      "1.09 63.19401701397476\n",
      "1.08 0.08602031677502014\n",
      "1.526 0.5289535884370798\n",
      "1.09 0.41887364698635876\n",
      "1.08 0.647114906728737\n",
      "1.09 0.8297086235366853\n",
      "1.09 1.0885995672743751\n",
      "1.4 1.1131957942514845\n",
      "1.4 0.14202864500145146\n",
      "1.4 3.965412882528716\n",
      "1.4 6.0806660617809385\n",
      "1.08 19.159121983363423\n",
      "1.4 4.780546944884614\n",
      "1.4 0.41444524603205196\n",
      "1.09 0.14914418010676594\n",
      "1.09 1.1240706322500649\n",
      "1.4 2.7745583145700676\n",
      "1.08 0.3975319155693457\n",
      "1.51 2.0276587065861187\n",
      "1.08 0.8587831776953081\n",
      "1.51 0.428888375860935\n",
      "1.09 1.143198721382909\n",
      "1.51 4.457489970346372\n",
      "1.09 0.3384163010532197\n",
      "1.09 0.220304815307366\n",
      "1.09 1.069710698558415\n",
      "1.09 0.37796452744755027\n",
      "1.09 2.3813579194649126\n",
      "109.5 -17.78681750795485\n",
      "114.0 -8.796618206873307\n",
      "114.0 -44.4585622752002\n",
      "114.0 -40.33530974513362\n",
      "114.0 438.76757409212877\n",
      "109.5 16.415700274344864\n",
      "109.5 43.73048543981518\n",
      "109.5 -113.2594025611966\n",
      "109.5 16.52855046732201\n",
      "109.5 -57.14444497050235\n",
      "109.5 48.00345905485285\n",
      "109.5 -302.568012631327\n",
      "109.5 -9.326996444626698\n",
      "109.5 -13.198968527009667\n",
      "109.5 -61.167898026663664\n",
      "109.5 8.242236089141699\n",
      "109.5 -14.209112191233164\n",
      "109.5 107.33047168935776\n",
      "109.5 -38.718544631385086\n",
      "109.5 56.07901914452806\n",
      "109.5 -622.5420643009046\n",
      "114.0 -14.871169274220403\n",
      "109.5 -112.88205518882013\n",
      "109.5 -138.95343429208046\n",
      "120.0 -165.77918401822598\n",
      "120.0 92.55487417100423\n",
      "120.0 2.627948519831846\n",
      "120.0 58.53791528329024\n",
      "120.0 16.25356703420418\n",
      "120.0 0.9709589811448134\n",
      "120.0 -23.20187421750323\n",
      "120.0 238.59244624340056\n",
      "120.0 92.74525722974845\n",
      "120.0 3.2954792635669197\n",
      "120.0 3.0847256758846595\n",
      "120.0 533.0613480788102\n",
      "120.0 48.376193696138714\n",
      "120.0 -24.421479948115355\n",
      "120.0 66.89844677668174\n",
      "120.0 177.75936348435448\n",
      "120.0 14.925671554592991\n",
      "120.0 9.184431928745411\n",
      "120.0 -51.15993073642589\n",
      "120.0 -22.1550864139461\n",
      "120.0 -48.58759740381595\n",
      "120.0 -19.988934198510343\n",
      "120.0 127.20276605642482\n",
      "120.0 -17.545938516718195\n",
      "120.0 -32.772564074928006\n",
      "120.0 43.81927881137412\n",
      "120.0 10.767147041908414\n",
      "120.0 -0.8971362610309761\n",
      "120.0 -49.73973308757427\n",
      "120.0 1.1782603540551904\n",
      "120.0 -34.66380301404218\n",
      "120.0 -77.69743867849492\n",
      "120.0 -16.467560219129055\n",
      "120.0 145.1290830992204\n",
      "120.0 189.47314384607196\n",
      "120.0 63.82032019606032\n",
      "109.5 -2.2184200326823613\n",
      "109.5 -745.1280774283143\n",
      "109.5 -4.0544357033188305\n",
      "109.5 88.67944498199617\n",
      "109.5 37.65014678377973\n",
      "109.5 -150.19021746765404\n",
      "109.5 -0.020364195184015443\n",
      "109.5 -469.2136686072773\n",
      "109.5 19.233963224961943\n",
      "109.5 9.199589517774527\n",
      "109.5 31.46121328822155\n",
      "109.5 -95.94838297476387\n",
      "109.5 185.15589213293055\n",
      "109.5 75.60342194584206\n",
      "109.5 -147.56653322139277\n",
      "109.5 34.09947790572852\n",
      "109.5 202.5144747273967\n",
      "109.5 -63.76526811321606\n",
      "109.5 55.00352900908835\n",
      "109.5 -18.915674660615867\n",
      "109.5 248.17789972676184\n",
      "109.5 -16.045519613337568\n",
      "109.5 -5.954788286071759\n",
      "109.5 17.66515585352275\n",
      "109.5 16.628063472532315\n",
      "109.5 -26.061781617431876\n",
      "109.5 37.88603018358974\n",
      "109.5 3.8197971477487185\n",
      "109.5 -43.0026073222079\n",
      "109.5 -29.877403680858453\n",
      "109.5 -150.95991145530957\n",
      "109.5 65.61769630144897\n",
      "109.5 -0.29197577077247683\n",
      "109.5 27.367496659873087\n",
      "109.5 -8.263165839798534\n",
      "109.5 -160.7822589539809\n",
      "109.5 -304.8591927330264\n",
      "109.5 15.903114402308677\n",
      "109.5 33.29929169903449\n",
      "109.5 35.81513522434021\n",
      "109.5 9.251038695772124\n",
      "109.5 -0.5618536137962997\n",
      "0.0 112.19850086476454\n",
      "0.0 24.356485612139416\n",
      "180.0 21.96691829375854\n",
      "0.0 -9.467571621804359\n",
      "180.0 -103.98129512278283\n",
      "0.0 44.224285231285506\n",
      "180.0 -18.385676841955405\n",
      "0.0 31.642233268256536\n",
      "0.0 2.1467730944964254\n",
      "0.0 -0.4485451235062703\n",
      "0.0 53.09617739013599\n",
      "180.0 19.09970151590346\n",
      "0.0 -31.96543509033153\n",
      "180.0 105.12838797629006\n",
      "0.0 -28.518650791097585\n",
      "180.0 -1.7349857458208016\n",
      "0.0 31.102954935442934\n",
      "0.0 49.03341449799781\n",
      "0.0 126.85520135102581\n",
      "0.0 2.7057756456302786\n",
      "180.0 5.450597037821506\n",
      "0.0 661.2252947208748\n",
      "180.0 -388.83890566126234\n",
      "0.0 2.0400433634764497\n",
      "180.0 -12.348723828802541\n",
      "0.0 40.97283303354535\n",
      "0.0 -0.5134013733180156\n",
      "0.0 -117.10250761685981\n",
      "0.0 13.692701941875626\n",
      "0.0 -27.52458629514985\n",
      "0.0 -396.40117432646684\n",
      "0.0 8.517334226327614\n",
      "0.0 23.221462600692043\n",
      "0.0 -44.12213429396834\n",
      "0.0 -1.073234803785673\n",
      "180.0 14.311804939683139\n",
      "0.0 -7.17240619529251\n",
      "180.0 -281.9821583186644\n",
      "0.0 50.330452200412836\n",
      "180.0 18.63573117089554\n",
      "0.0 -3.677490611460904\n",
      "0.0 82.73212356188357\n",
      "0.0 -6.761476982473258\n",
      "0.0 4.772619669775427\n",
      "0.0 -165.92834551858877\n",
      "180.0 0.3450787201340404\n",
      "0.0 -15.126134498202294\n",
      "0.0 -149.5548547969912\n",
      "0.0 21.291736982688715\n",
      "0.0 -35.3812191898259\n",
      "0.0 -207.72259082182546\n",
      "180.0 51.378741451829654\n",
      "0.0 10.460051493342188\n",
      "0.0 -232.4438980073719\n",
      "0.0 -18.399205689517025\n",
      "180.0 1.3608814147394641\n",
      "180.0 -74.93851397793338\n",
      "0.0 -49.85830242513508\n",
      "0.0 285.1835620977333\n",
      "180.0 -37.32640873577502\n",
      "180.0 33.71845700265941\n",
      "0.0 -305.5895939553579\n",
      "0.0 -1.3974651718327067\n",
      "0.0 -62.11303855662828\n",
      "0.0 25.215709879753906\n",
      "0.0 17.47889558952235\n",
      "180.0 102.75178436808645\n",
      "0.0 -18.881890214340707\n",
      "0.0 -7.031243548175327\n",
      "180.0 -3.9362637201038315\n",
      "180.0 -34.90403510213356\n",
      "0.0 -51.29884152643929\n",
      "0.0 -4.716912798663721\n",
      "180.0 -71.04627702854295\n",
      "180.0 7.2773391401927565\n",
      "0.0 11.402264169209982\n",
      "0.0 -3.138972527508713\n",
      "0.0 12.058217969267778\n",
      "180.0 10.863838299994754\n",
      "0.0 -20.773909678075995\n",
      "180.0 -9.67200215914086\n",
      "0.0 5.175313915186324\n",
      "180.0 -25.855880264445183\n",
      "0.0 141.1196119047952\n",
      "0.0 8.889383709915535\n",
      "0.0 27.38061137168478\n",
      "0.0 39.80956968288646\n",
      "0.0 -29.87888832190889\n",
      "0.0 625.9444707071594\n",
      "0.0 -1.8048801766017446\n",
      "180.0 174.32673403461303\n",
      "180.0 2.4741752850903254\n",
      "0.0 35.26555062845344\n",
      "0.0 60.47823488811899\n",
      "180.0 3.6215966630799468\n",
      "180.0 -35.08742093239219\n",
      "0.0 46.21229395895406\n",
      "0.0 -56.8555494865269\n",
      "180.0 93.3561430690655\n",
      "180.0 14.568589695188619\n",
      "0.0 -5.872096630994789\n",
      "0.0 -53.45632135251546\n",
      "180.0 3.7118958438850367\n",
      "180.0 2.8375543034832074\n",
      "0.0 -47.08985999492862\n",
      "0.0 -9.225846386877665\n",
      "180.0 216.68545836022838\n",
      "180.0 -43.95594972125677\n",
      "0.0 55.320108354417144\n",
      "0.0 64.46590824719847\n",
      "180.0 -11.694140693431038\n",
      "180.0 -84.63392831754882\n",
      "0.0 -17.43921706099316\n",
      "0.0 -38.74003237139048\n",
      "180.0 -25.782697547489267\n",
      "0.0 188.2698954481939\n",
      "0.0 -96.16028620425212\n",
      "0.0 -26.562951488107476\n",
      "0.0 44.900090569490295\n",
      "0.0 133.58470863717946\n",
      "0.0 -109.74948350782297\n",
      "0.0 -26.773283024178333\n",
      "0.0 -26.0001777323237\n",
      "0.0 15.168717797959623\n",
      "0.0 -107.24926072841531\n",
      "0.0 30.7930751212581\n",
      "0.0 32.97832896021643\n",
      "0.0 8.443536007074579\n",
      "0.0 -34.32023539279615\n",
      "0.0 64.05512202265757\n",
      "0.0 -87.50448274800779\n"
     ]
    }
   ],
   "source": [
    "for i, j in zip(thetas, de.best_p):\n",
    "    print(i, j)"
   ]
  },
  {
   "cell_type": "code",
   "execution_count": 9,
   "metadata": {},
   "outputs": [],
   "source": [
    "thetas = amber_coeffs.bonds_zero_values + amber_coeffs.angles_zero_values + amber_coeffs.torsions_zero_phase + amber_coeffs.rmins + amber_coeffs.qs"
   ]
  },
  {
   "cell_type": "code",
   "execution_count": 11,
   "metadata": {},
   "outputs": [],
   "source": [
    "H, stdH = constrH(dataset, struct_description, thetas)"
   ]
  },
  {
   "cell_type": "code",
   "execution_count": 7,
   "metadata": {},
   "outputs": [],
   "source": [
    "linear_coeffs = amber_coeffs.bonds_linear_coeffs + amber_coeffs.angles_linear_coeffs + amber_coeffs.torsions_linear_coeffs +  amber_coeffs.epsilons + [138.935485 * 0.0239006] * len(struct_description.pairs)"
   ]
  },
  {
   "cell_type": "code",
   "execution_count": 12,
   "metadata": {},
   "outputs": [],
   "source": [
    "y_est = H.dot(linear_coeffs)"
   ]
  },
  {
   "cell_type": "code",
   "execution_count": 15,
   "metadata": {},
   "outputs": [
    {
     "name": "stdout",
     "output_type": "stream",
     "text": [
      "9.495553729354238 20.1946032241865 10.581166347610619 -0.4481192627356642 -2.501776894002565\n"
     ]
    }
   ],
   "source": [
    "# H[:, :len(amber_coeffs[0])].shape, amber_coeffs[0]\n",
    "kb = len(amber_coeffs.bonds_linear_coeffs)\n",
    "ka = len(amber_coeffs.angles_linear_coeffs)\n",
    "kt = len(amber_coeffs.torsions_linear_coeffs)\n",
    "kq = len(amber_coeffs.epsilons)\n",
    "keps = len(struct_description.pairs)\n",
    "\n",
    "yest1 = H[:, :kb].dot(amber_coeffs.bonds_linear_coeffs)\n",
    "yest2 = H[:, kb:ka+kb].dot(amber_coeffs.angles_linear_coeffs)\n",
    "yest3 = H[:, kb+ka:kb+ka+kt].dot(amber_coeffs.torsions_linear_coeffs)\n",
    "yest4 = H[:, kb+ka+kt:kb+ka+kt+kq].dot(amber_coeffs.epsilons)\n",
    "yest5 = H[:, kb+ka+kt+kq:kb+ka+kt+kq+keps].dot([138.935485 * 0.0239006] * len(struct_description.pairs))\n",
    "\n",
    "print(yest1[0], yest2[0], yest3[0], yest4[0], yest5[0])"
   ]
  },
  {
   "cell_type": "code",
   "execution_count": 17,
   "metadata": {},
   "outputs": [
    {
     "data": {
      "text/plain": [
       "(-96753.16495624499, 37.321427144413086)"
      ]
     },
     "execution_count": 17,
     "metadata": {},
     "output_type": "execute_result"
    }
   ],
   "source": [
    "y[0], y_est[0]"
   ]
  },
  {
   "cell_type": "code",
   "execution_count": 13,
   "metadata": {},
   "outputs": [
    {
     "data": {
      "text/plain": [
       "<matplotlib.collections.PathCollection at 0x7f81897099d0>"
      ]
     },
     "execution_count": 13,
     "metadata": {},
     "output_type": "execute_result"
    },
    {
     "data": {
      "image/png": "[encoded data removed]",
      "text/plain": [
       "<Figure size 432x288 with 1 Axes>"
      ]
     },
     "metadata": {
      "needs_background": "light"
     },
     "output_type": "display_data"
    }
   ],
   "source": [
    "plt.scatter(y_est, y)"
   ]
  },
  {
   "cell_type": "code",
   "execution_count": 9,
   "metadata": {},
   "outputs": [
    {
     "data": {
      "text/plain": [
       "Text(0, 0.5, '$LOOCV_{error}$')"
      ]
     },
     "execution_count": 9,
     "metadata": {},
     "output_type": "execute_result"
    },
    {
     "data": {
      "image/png": "[encoded data removed]",
      "text/plain": [
       "<Figure size 432x288 with 1 Axes>"
      ]
     },
     "metadata": {
      "needs_background": "light"
     },
     "output_type": "display_data"
    }
   ],
   "source": [
    "plt.rcParams.update({'font.size': 25})\n",
    "x = np.array([1143.4, 957.2, 765.9, 432.0, 205.8, 193.1, 137.7, 137.7, 137.7, 120.8, 105.3, 91.4, 91.4, 91.4, 85.1, 85.1, 85.1, 78.7, 66.3, 66.3, 54.9, \n",
    "    51.1, 51.1, 51.1, 51.1, 51.1, 49.3, 49.3, 49.3, 49.3]) / 10\n",
    "\n",
    "plt.plot(x)\n",
    "plt.xlabel('Номер итерации')\n",
    "plt.ylabel('$LOOCV_{error}$')"
   ]
  }
 ],
 "metadata": {
  "kernelspec": {
   "display_name": "Python 3",
   "language": "python",
   "name": "python3"
  },
  "language_info": {
   "codemirror_mode": {
    "name": "ipython",
    "version": 3
   },
   "file_extension": ".py",
   "mimetype": "text/x-python",
   "name": "python",
   "nbconvert_exporter": "python",
   "pygments_lexer": "ipython3",
   "version": "3.7.4"
  }
 },
 "nbformat": 4,
 "nbformat_minor": 2
}
